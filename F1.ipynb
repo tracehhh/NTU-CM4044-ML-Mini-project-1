{
 "cells": [
  {
   "cell_type": "markdown",
   "id": "d8b3bebc",
   "metadata": {},
   "source": [
    "Using the 2025 Australian GP as an example, the loop below creates a dataframe of each team's average straight and corner speeds."
   ]
  },
  {
   "cell_type": "code",
   "execution_count": null,
   "id": "2b1fdbed",
   "metadata": {},
   "outputs": [],
   "source": [
    "import fastf1\n",
    "import pandas as pd\n",
    "\n",
    "fastf1.Cache.enable_cache('/Users/tracey/Documents/Python/') #replace with ur own folder path to make a cache for faster loading\n",
    "\n",
    "session = fastf1.get_session(2025, 'Australian', 'R')\n",
    "session.load()\n",
    "\n",
    "race_teams = session.laps['Team'].unique()\n",
    "print(race_teams)\n",
    "\n",
    "all_teams_features = []\n",
    "\n",
    "for team_name in race_teams:\n",
    "    laps = session.laps.pick_teams(team_name)\n",
    "\n",
    "    if laps.empty:\n",
    "        continue\n",
    "    \n",
    "    lap_features = []\n",
    "\n",
    "    for _, lap in laps.iterrows():\n",
    "        #test: take sector 1 as straight, sector 2+3 as corners\n",
    "        avg_straight_speed = lap['SpeedI1']  # sector 1 speed\n",
    "        max_speed = lap['SpeedST']           # speed trap\n",
    "        avg_corner_speed = (lap['SpeedI2'] + lap['SpeedFL']) / 2  # sector 2 + corners\n",
    "        min_corner_speed = min(lap['SpeedI2'], lap['SpeedFL'])\n",
    "        \n",
    "        lap_features.append({\n",
    "            'AvgStraightSpeed': avg_straight_speed,\n",
    "            'MaxSpeed': max_speed,\n",
    "            'AvgCornerSpeed': avg_corner_speed,\n",
    "            'MinCornerSpeed': min_corner_speed\n",
    "        })\n",
    "\n",
    "    lap_features_df = pd.DataFrame(lap_features)  #per lap\n",
    "\n",
    "#aggregated across all laps for the overall team performance\n",
    "    team_features_df = lap_features_df.mean().to_frame().T \n",
    "    team_features_df['Team'] = team_name\n",
    "    team_features_df = team_features_df[['Team'] + [col for col in team_features_df.columns if col != 'Team']] #reorder\n",
    "    all_teams_features.append(team_features_df)\n",
    "\n",
    "final_df = pd.concat(all_teams_features, ignore_index = True)\n",
    "print(final_df)"
   ]
  }
 ],
 "metadata": {
  "kernelspec": {
   "display_name": "Python 3",
   "language": "python",
   "name": "python3"
  },
  "language_info": {
   "name": "python",
   "version": "3.11.5"
  }
 },
 "nbformat": 4,
 "nbformat_minor": 5
}
